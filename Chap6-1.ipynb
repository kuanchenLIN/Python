{
 "cells": [
  {
   "cell_type": "markdown",
   "metadata": {},
   "source": [
    "# Chap6-1:DataFrame loc,iloc\n",
    "### DataFrame比numpy ndarry(element-wise)提供資料統整的功能\n",
    "### DataFrame通常為2維資料\n",
    "### 橫的為列(索引index)，直的為屬(columns)"
   ]
  },
  {
   "cell_type": "code",
   "execution_count": 5,
   "metadata": {},
   "outputs": [
    {
     "data": {
      "text/html": [
       "<div>\n",
       "<style scoped>\n",
       "    .dataframe tbody tr th:only-of-type {\n",
       "        vertical-align: middle;\n",
       "    }\n",
       "\n",
       "    .dataframe tbody tr th {\n",
       "        vertical-align: top;\n",
       "    }\n",
       "\n",
       "    .dataframe thead th {\n",
       "        text-align: right;\n",
       "    }\n",
       "</style>\n",
       "<table border=\"1\" class=\"dataframe\">\n",
       "  <thead>\n",
       "    <tr style=\"text-align: right;\">\n",
       "      <th></th>\n",
       "      <th>A</th>\n",
       "      <th>B</th>\n",
       "      <th>C</th>\n",
       "      <th>D</th>\n",
       "      <th>E</th>\n",
       "      <th>F</th>\n",
       "    </tr>\n",
       "  </thead>\n",
       "  <tbody>\n",
       "    <tr>\n",
       "      <td>a</td>\n",
       "      <td>0.174483</td>\n",
       "      <td>0.217814</td>\n",
       "      <td>0.282507</td>\n",
       "      <td>0.499205</td>\n",
       "      <td>0.430302</td>\n",
       "      <td>0.507091</td>\n",
       "    </tr>\n",
       "    <tr>\n",
       "      <td>b</td>\n",
       "      <td>0.961492</td>\n",
       "      <td>0.223123</td>\n",
       "      <td>0.369903</td>\n",
       "      <td>0.456442</td>\n",
       "      <td>0.841605</td>\n",
       "      <td>0.590829</td>\n",
       "    </tr>\n",
       "    <tr>\n",
       "      <td>c</td>\n",
       "      <td>0.194537</td>\n",
       "      <td>0.157198</td>\n",
       "      <td>0.085528</td>\n",
       "      <td>0.376903</td>\n",
       "      <td>0.117500</td>\n",
       "      <td>0.625432</td>\n",
       "    </tr>\n",
       "    <tr>\n",
       "      <td>d</td>\n",
       "      <td>0.963185</td>\n",
       "      <td>0.887645</td>\n",
       "      <td>0.781226</td>\n",
       "      <td>0.239313</td>\n",
       "      <td>0.961887</td>\n",
       "      <td>0.013127</td>\n",
       "    </tr>\n",
       "    <tr>\n",
       "      <td>e</td>\n",
       "      <td>0.912043</td>\n",
       "      <td>0.635672</td>\n",
       "      <td>0.879109</td>\n",
       "      <td>0.048945</td>\n",
       "      <td>0.872705</td>\n",
       "      <td>0.005078</td>\n",
       "    </tr>\n",
       "    <tr>\n",
       "      <td>f</td>\n",
       "      <td>0.856508</td>\n",
       "      <td>0.047604</td>\n",
       "      <td>0.514971</td>\n",
       "      <td>0.258948</td>\n",
       "      <td>0.475656</td>\n",
       "      <td>0.933642</td>\n",
       "    </tr>\n",
       "  </tbody>\n",
       "</table>\n",
       "</div>"
      ],
      "text/plain": [
       "          A         B         C         D         E         F\n",
       "a  0.174483  0.217814  0.282507  0.499205  0.430302  0.507091\n",
       "b  0.961492  0.223123  0.369903  0.456442  0.841605  0.590829\n",
       "c  0.194537  0.157198  0.085528  0.376903  0.117500  0.625432\n",
       "d  0.963185  0.887645  0.781226  0.239313  0.961887  0.013127\n",
       "e  0.912043  0.635672  0.879109  0.048945  0.872705  0.005078\n",
       "f  0.856508  0.047604  0.514971  0.258948  0.475656  0.933642"
      ]
     },
     "execution_count": 5,
     "metadata": {},
     "output_type": "execute_result"
    }
   ],
   "source": [
    "# 隨機產生DataFrame資料\n",
    "import numpy as np\n",
    "import pandas as pd\n",
    "frame=pd.DataFrame(np.random.rand(6,6),index=list('abcdef'),\n",
    "                  columns=list('ABCDEF'))\n",
    "frame"
   ]
  },
  {
   "cell_type": "markdown",
   "metadata": {},
   "source": [
    "# loc用欄位來找出DataFrame的資料\n",
    "\n",
    "# iloc用索引來找出DataFrame的資料"
   ]
  },
  {
   "cell_type": "code",
   "execution_count": 6,
   "metadata": {},
   "outputs": [
    {
     "data": {
      "text/html": [
       "<div>\n",
       "<style scoped>\n",
       "    .dataframe tbody tr th:only-of-type {\n",
       "        vertical-align: middle;\n",
       "    }\n",
       "\n",
       "    .dataframe tbody tr th {\n",
       "        vertical-align: top;\n",
       "    }\n",
       "\n",
       "    .dataframe thead th {\n",
       "        text-align: right;\n",
       "    }\n",
       "</style>\n",
       "<table border=\"1\" class=\"dataframe\">\n",
       "  <thead>\n",
       "    <tr style=\"text-align: right;\">\n",
       "      <th></th>\n",
       "      <th>A</th>\n",
       "      <th>B</th>\n",
       "      <th>C</th>\n",
       "      <th>D</th>\n",
       "      <th>E</th>\n",
       "      <th>F</th>\n",
       "    </tr>\n",
       "  </thead>\n",
       "  <tbody>\n",
       "    <tr>\n",
       "      <td>count</td>\n",
       "      <td>6.000000</td>\n",
       "      <td>6.000000</td>\n",
       "      <td>6.000000</td>\n",
       "      <td>6.000000</td>\n",
       "      <td>6.000000</td>\n",
       "      <td>6.000000</td>\n",
       "    </tr>\n",
       "    <tr>\n",
       "      <td>mean</td>\n",
       "      <td>0.677041</td>\n",
       "      <td>0.361509</td>\n",
       "      <td>0.485541</td>\n",
       "      <td>0.313293</td>\n",
       "      <td>0.616609</td>\n",
       "      <td>0.445866</td>\n",
       "    </tr>\n",
       "    <tr>\n",
       "      <td>std</td>\n",
       "      <td>0.383562</td>\n",
       "      <td>0.326209</td>\n",
       "      <td>0.302588</td>\n",
       "      <td>0.165775</td>\n",
       "      <td>0.328363</td>\n",
       "      <td>0.367829</td>\n",
       "    </tr>\n",
       "    <tr>\n",
       "      <td>min</td>\n",
       "      <td>0.174483</td>\n",
       "      <td>0.047604</td>\n",
       "      <td>0.085528</td>\n",
       "      <td>0.048945</td>\n",
       "      <td>0.117500</td>\n",
       "      <td>0.005078</td>\n",
       "    </tr>\n",
       "    <tr>\n",
       "      <td>25%</td>\n",
       "      <td>0.360030</td>\n",
       "      <td>0.172352</td>\n",
       "      <td>0.304356</td>\n",
       "      <td>0.244222</td>\n",
       "      <td>0.441641</td>\n",
       "      <td>0.136618</td>\n",
       "    </tr>\n",
       "    <tr>\n",
       "      <td>50%</td>\n",
       "      <td>0.884275</td>\n",
       "      <td>0.220468</td>\n",
       "      <td>0.442437</td>\n",
       "      <td>0.317926</td>\n",
       "      <td>0.658630</td>\n",
       "      <td>0.548960</td>\n",
       "    </tr>\n",
       "    <tr>\n",
       "      <td>75%</td>\n",
       "      <td>0.949130</td>\n",
       "      <td>0.532534</td>\n",
       "      <td>0.714662</td>\n",
       "      <td>0.436557</td>\n",
       "      <td>0.864930</td>\n",
       "      <td>0.616781</td>\n",
       "    </tr>\n",
       "    <tr>\n",
       "      <td>max</td>\n",
       "      <td>0.963185</td>\n",
       "      <td>0.887645</td>\n",
       "      <td>0.879109</td>\n",
       "      <td>0.499205</td>\n",
       "      <td>0.961887</td>\n",
       "      <td>0.933642</td>\n",
       "    </tr>\n",
       "  </tbody>\n",
       "</table>\n",
       "</div>"
      ],
      "text/plain": [
       "              A         B         C         D         E         F\n",
       "count  6.000000  6.000000  6.000000  6.000000  6.000000  6.000000\n",
       "mean   0.677041  0.361509  0.485541  0.313293  0.616609  0.445866\n",
       "std    0.383562  0.326209  0.302588  0.165775  0.328363  0.367829\n",
       "min    0.174483  0.047604  0.085528  0.048945  0.117500  0.005078\n",
       "25%    0.360030  0.172352  0.304356  0.244222  0.441641  0.136618\n",
       "50%    0.884275  0.220468  0.442437  0.317926  0.658630  0.548960\n",
       "75%    0.949130  0.532534  0.714662  0.436557  0.864930  0.616781\n",
       "max    0.963185  0.887645  0.879109  0.499205  0.961887  0.933642"
      ]
     },
     "execution_count": 6,
     "metadata": {},
     "output_type": "execute_result"
    }
   ],
   "source": [
    "frame.describe()"
   ]
  },
  {
   "cell_type": "code",
   "execution_count": 8,
   "metadata": {},
   "outputs": [
    {
     "data": {
      "text/plain": [
       "0.1744827019147157"
      ]
     },
     "execution_count": 8,
     "metadata": {},
     "output_type": "execute_result"
    }
   ],
   "source": [
    "frame.loc['a','A']"
   ]
  },
  {
   "cell_type": "code",
   "execution_count": 10,
   "metadata": {},
   "outputs": [
    {
     "data": {
      "text/html": [
       "<div>\n",
       "<style scoped>\n",
       "    .dataframe tbody tr th:only-of-type {\n",
       "        vertical-align: middle;\n",
       "    }\n",
       "\n",
       "    .dataframe tbody tr th {\n",
       "        vertical-align: top;\n",
       "    }\n",
       "\n",
       "    .dataframe thead th {\n",
       "        text-align: right;\n",
       "    }\n",
       "</style>\n",
       "<table border=\"1\" class=\"dataframe\">\n",
       "  <thead>\n",
       "    <tr style=\"text-align: right;\">\n",
       "      <th></th>\n",
       "      <th>A</th>\n",
       "      <th>B</th>\n",
       "      <th>C</th>\n",
       "      <th>D</th>\n",
       "      <th>E</th>\n",
       "      <th>F</th>\n",
       "    </tr>\n",
       "  </thead>\n",
       "  <tbody>\n",
       "    <tr>\n",
       "      <td>a</td>\n",
       "      <td>0.174483</td>\n",
       "      <td>0.217814</td>\n",
       "      <td>0.282507</td>\n",
       "      <td>0.499205</td>\n",
       "      <td>0.430302</td>\n",
       "      <td>0.507091</td>\n",
       "    </tr>\n",
       "    <tr>\n",
       "      <td>b</td>\n",
       "      <td>0.961492</td>\n",
       "      <td>0.223123</td>\n",
       "      <td>0.369903</td>\n",
       "      <td>0.456442</td>\n",
       "      <td>0.841605</td>\n",
       "      <td>0.590829</td>\n",
       "    </tr>\n",
       "  </tbody>\n",
       "</table>\n",
       "</div>"
      ],
      "text/plain": [
       "          A         B         C         D         E         F\n",
       "a  0.174483  0.217814  0.282507  0.499205  0.430302  0.507091\n",
       "b  0.961492  0.223123  0.369903  0.456442  0.841605  0.590829"
      ]
     },
     "execution_count": 10,
     "metadata": {},
     "output_type": "execute_result"
    }
   ],
   "source": [
    "# 取前兩列的對應資料\n",
    "frame.loc['a':'b',:]"
   ]
  },
  {
   "cell_type": "code",
   "execution_count": 12,
   "metadata": {},
   "outputs": [
    {
     "data": {
      "text/html": [
       "<div>\n",
       "<style scoped>\n",
       "    .dataframe tbody tr th:only-of-type {\n",
       "        vertical-align: middle;\n",
       "    }\n",
       "\n",
       "    .dataframe tbody tr th {\n",
       "        vertical-align: top;\n",
       "    }\n",
       "\n",
       "    .dataframe thead th {\n",
       "        text-align: right;\n",
       "    }\n",
       "</style>\n",
       "<table border=\"1\" class=\"dataframe\">\n",
       "  <thead>\n",
       "    <tr style=\"text-align: right;\">\n",
       "      <th></th>\n",
       "      <th>A</th>\n",
       "      <th>B</th>\n",
       "    </tr>\n",
       "  </thead>\n",
       "  <tbody>\n",
       "    <tr>\n",
       "      <td>a</td>\n",
       "      <td>0.174483</td>\n",
       "      <td>0.217814</td>\n",
       "    </tr>\n",
       "    <tr>\n",
       "      <td>b</td>\n",
       "      <td>0.961492</td>\n",
       "      <td>0.223123</td>\n",
       "    </tr>\n",
       "    <tr>\n",
       "      <td>c</td>\n",
       "      <td>0.194537</td>\n",
       "      <td>0.157198</td>\n",
       "    </tr>\n",
       "    <tr>\n",
       "      <td>d</td>\n",
       "      <td>0.963185</td>\n",
       "      <td>0.887645</td>\n",
       "    </tr>\n",
       "    <tr>\n",
       "      <td>e</td>\n",
       "      <td>0.912043</td>\n",
       "      <td>0.635672</td>\n",
       "    </tr>\n",
       "    <tr>\n",
       "      <td>f</td>\n",
       "      <td>0.856508</td>\n",
       "      <td>0.047604</td>\n",
       "    </tr>\n",
       "  </tbody>\n",
       "</table>\n",
       "</div>"
      ],
      "text/plain": [
       "          A         B\n",
       "a  0.174483  0.217814\n",
       "b  0.961492  0.223123\n",
       "c  0.194537  0.157198\n",
       "d  0.963185  0.887645\n",
       "e  0.912043  0.635672\n",
       "f  0.856508  0.047604"
      ]
     },
     "execution_count": 12,
     "metadata": {},
     "output_type": "execute_result"
    }
   ],
   "source": [
    "# 取前兩欄的對應資料\n",
    "frame.loc[:,'A':'B']"
   ]
  },
  {
   "cell_type": "code",
   "execution_count": 14,
   "metadata": {},
   "outputs": [
    {
     "name": "stdout",
     "output_type": "stream",
     "text": [
      "          A         B         C         D         E         F\n",
      "a  0.174483  0.217814  0.282507  0.499205  0.430302  0.507091\n",
      "c  0.194537  0.157198  0.085528  0.376903  0.117500  0.625432\n",
      "------------------------------------\n",
      "          A         C\n",
      "a  0.174483  0.282507\n",
      "b  0.961492  0.369903\n",
      "c  0.194537  0.085528\n",
      "d  0.963185  0.781226\n",
      "e  0.912043  0.879109\n",
      "f  0.856508  0.514971\n",
      "------------------------------------\n",
      "          A         D\n",
      "a  0.174483  0.499205\n",
      "d  0.963185  0.239313\n"
     ]
    }
   ],
   "source": [
    "# 取特殊列，欄的資料\n",
    "print(frame.loc[['a','c'],:])\n",
    "print('------------------------------------')\n",
    "print(frame.loc[:,['A','C']])\n",
    "print('------------------------------------')\n",
    "print(frame.loc[['a','d'],['A','D']])"
   ]
  },
  {
   "cell_type": "markdown",
   "metadata": {},
   "source": [
    "### iloc是利用列索引與欄索引進行資料定位，都是從0開始"
   ]
  },
  {
   "cell_type": "code",
   "execution_count": 16,
   "metadata": {},
   "outputs": [
    {
     "data": {
      "text/plain": [
       "0.1744827019147157"
      ]
     },
     "execution_count": 16,
     "metadata": {},
     "output_type": "execute_result"
    }
   ],
   "source": [
    "frame.iloc[0,0]"
   ]
  },
  {
   "cell_type": "code",
   "execution_count": 17,
   "metadata": {},
   "outputs": [
    {
     "data": {
      "text/html": [
       "<div>\n",
       "<style scoped>\n",
       "    .dataframe tbody tr th:only-of-type {\n",
       "        vertical-align: middle;\n",
       "    }\n",
       "\n",
       "    .dataframe tbody tr th {\n",
       "        vertical-align: top;\n",
       "    }\n",
       "\n",
       "    .dataframe thead th {\n",
       "        text-align: right;\n",
       "    }\n",
       "</style>\n",
       "<table border=\"1\" class=\"dataframe\">\n",
       "  <thead>\n",
       "    <tr style=\"text-align: right;\">\n",
       "      <th></th>\n",
       "      <th>A</th>\n",
       "      <th>B</th>\n",
       "      <th>C</th>\n",
       "      <th>D</th>\n",
       "      <th>E</th>\n",
       "      <th>F</th>\n",
       "    </tr>\n",
       "  </thead>\n",
       "  <tbody>\n",
       "    <tr>\n",
       "      <td>a</td>\n",
       "      <td>0.174483</td>\n",
       "      <td>0.217814</td>\n",
       "      <td>0.282507</td>\n",
       "      <td>0.499205</td>\n",
       "      <td>0.430302</td>\n",
       "      <td>0.507091</td>\n",
       "    </tr>\n",
       "    <tr>\n",
       "      <td>b</td>\n",
       "      <td>0.961492</td>\n",
       "      <td>0.223123</td>\n",
       "      <td>0.369903</td>\n",
       "      <td>0.456442</td>\n",
       "      <td>0.841605</td>\n",
       "      <td>0.590829</td>\n",
       "    </tr>\n",
       "  </tbody>\n",
       "</table>\n",
       "</div>"
      ],
      "text/plain": [
       "          A         B         C         D         E         F\n",
       "a  0.174483  0.217814  0.282507  0.499205  0.430302  0.507091\n",
       "b  0.961492  0.223123  0.369903  0.456442  0.841605  0.590829"
      ]
     },
     "execution_count": 17,
     "metadata": {},
     "output_type": "execute_result"
    }
   ],
   "source": [
    "# 取前兩列的資料\n",
    "frame.iloc[0:2,:]"
   ]
  },
  {
   "cell_type": "code",
   "execution_count": 18,
   "metadata": {},
   "outputs": [
    {
     "data": {
      "text/html": [
       "<div>\n",
       "<style scoped>\n",
       "    .dataframe tbody tr th:only-of-type {\n",
       "        vertical-align: middle;\n",
       "    }\n",
       "\n",
       "    .dataframe tbody tr th {\n",
       "        vertical-align: top;\n",
       "    }\n",
       "\n",
       "    .dataframe thead th {\n",
       "        text-align: right;\n",
       "    }\n",
       "</style>\n",
       "<table border=\"1\" class=\"dataframe\">\n",
       "  <thead>\n",
       "    <tr style=\"text-align: right;\">\n",
       "      <th></th>\n",
       "      <th>A</th>\n",
       "      <th>B</th>\n",
       "    </tr>\n",
       "  </thead>\n",
       "  <tbody>\n",
       "    <tr>\n",
       "      <td>a</td>\n",
       "      <td>0.174483</td>\n",
       "      <td>0.217814</td>\n",
       "    </tr>\n",
       "    <tr>\n",
       "      <td>b</td>\n",
       "      <td>0.961492</td>\n",
       "      <td>0.223123</td>\n",
       "    </tr>\n",
       "  </tbody>\n",
       "</table>\n",
       "</div>"
      ],
      "text/plain": [
       "          A         B\n",
       "a  0.174483  0.217814\n",
       "b  0.961492  0.223123"
      ]
     },
     "execution_count": 18,
     "metadata": {},
     "output_type": "execute_result"
    }
   ],
   "source": [
    "# 取前兩列、兩欄之資料\n",
    "frame.iloc[0:2,0:2]"
   ]
  },
  {
   "cell_type": "code",
   "execution_count": 21,
   "metadata": {},
   "outputs": [
    {
     "name": "stdout",
     "output_type": "stream",
     "text": [
      "          A         B         C         D         E         F\n",
      "a  0.174483  0.217814  0.282507  0.499205  0.430302  0.507091\n",
      "c  0.194537  0.157198  0.085528  0.376903  0.117500  0.625432\n",
      "------------------------------------\n",
      "          A         C\n",
      "a  0.174483  0.282507\n",
      "b  0.961492  0.369903\n",
      "c  0.194537  0.085528\n",
      "d  0.963185  0.781226\n",
      "e  0.912043  0.879109\n",
      "f  0.856508  0.514971\n",
      "------------------------------------\n",
      "          A         D\n",
      "a  0.174483  0.499205\n",
      "d  0.963185  0.239313\n"
     ]
    }
   ],
   "source": [
    "# 取特殊列、欄的資料\n",
    "print(frame.iloc[[0,2],:])\n",
    "print('------------------------------------')\n",
    "print(frame.iloc[:,[0,2]])\n",
    "print('------------------------------------')\n",
    "print(frame.iloc[[0,3],[0,3]])"
   ]
  },
  {
   "cell_type": "code",
   "execution_count": null,
   "metadata": {},
   "outputs": [],
   "source": []
  }
 ],
 "metadata": {
  "kernelspec": {
   "display_name": "Python 3",
   "language": "python",
   "name": "python3"
  },
  "language_info": {
   "codemirror_mode": {
    "name": "ipython",
    "version": 3
   },
   "file_extension": ".py",
   "mimetype": "text/x-python",
   "name": "python",
   "nbconvert_exporter": "python",
   "pygments_lexer": "ipython3",
   "version": "3.7.4"
  }
 },
 "nbformat": 4,
 "nbformat_minor": 2
}
